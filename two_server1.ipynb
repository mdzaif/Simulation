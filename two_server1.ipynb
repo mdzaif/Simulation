{
 "cells": [
  {
   "cell_type": "code",
   "execution_count": 161,
   "metadata": {
    "id": "l-04nq-du_Fe"
   },
   "outputs": [],
   "source": [
    "import pandas as pd\n",
    "import random as rd\n",
    "\n",
    "#r_iat = ['-', 26, 98, 90, 26, 42]\n",
    "#r_st = [95, 21, 51, 92, 89, 38]\n",
    "r_iat = []\n",
    "r_st = []\n",
    "r = int(input(\"Enter the number of customers: \"))\n",
    "iat = []\n",
    "at = []\n",
    "st_a = []\n",
    "tsb_a = []\n",
    "tse_a = []\n",
    "st_b = []\n",
    "tsb_b = []\n",
    "tse_b = []\n",
    "wt = []\n",
    "tss = []\n"
   ]
  },
  {
   "cell_type": "code",
   "execution_count": 162,
   "metadata": {},
   "outputs": [
    {
     "name": "stdout",
     "output_type": "stream",
     "text": [
      "RD. IAT: ['-', 649, 751, 556, 934, 64]\n",
      "RD. ST: [86, 77, 15, 46, 12, 92]\n"
     ]
    }
   ],
   "source": [
    "for q in range(0, r):\n",
    "    if q == 0:\n",
    "        r_iat.append('-')\n",
    "    else:\n",
    "        r_iat.append(rd.randint(0,1001))\n",
    "for w in range(0, r):\n",
    "    r_st.append(rd.randint(0,101))\n",
    "\n",
    "print(f\"RD. IAT: {r_iat}\")\n",
    "print(f\"RD. ST: {r_st}\")"
   ]
  },
  {
   "cell_type": "code",
   "execution_count": 163,
   "metadata": {
    "colab": {
     "base_uri": "https://localhost:8080/"
    },
    "id": "PrSIYCndwjF3",
    "outputId": "f9ef0294-2557-45cc-9dc0-a41c1bbd3037"
   },
   "outputs": [
    {
     "name": "stdout",
     "output_type": "stream",
     "text": [
      "IAT: ['-', 4, 4, 4, 4, 2]\n"
     ]
    }
   ],
   "source": [
    "# conditions\n",
    "\n",
    "for i in r_iat:\n",
    "  if i == '-':\n",
    "    iat.append('-')\n",
    "  elif i <= 25:\n",
    "    iat.append(1)\n",
    "  elif i <= 65:\n",
    "    iat.append(2)\n",
    "  elif i <= 85:\n",
    "    iat.append(3)\n",
    "  elif i <= 100:\n",
    "    iat.append(4)\n",
    "  else:\n",
    "    iat.append(4)\n",
    "\n",
    "print(f\"IAT: {iat}\")\n"
   ]
  },
  {
   "cell_type": "code",
   "execution_count": 164,
   "metadata": {
    "colab": {
     "base_uri": "https://localhost:8080/"
    },
    "id": "755sLm3zw_jr",
    "outputId": "b509677c-013e-4e4b-9fbe-f8b827cb4421"
   },
   "outputs": [
    {
     "name": "stdout",
     "output_type": "stream",
     "text": [
      "AT: [0, 4, 8, 12, 16, 18]\n"
     ]
    }
   ],
   "source": [
    "c = 0\n",
    "for j in iat:\n",
    "  if j == '-':\n",
    "    at.append(0)\n",
    "  else:\n",
    "    c = c + j\n",
    "    at.append(c)\n",
    "print(f\"AT: {at}\")"
   ]
  },
  {
   "cell_type": "code",
   "execution_count": 165,
   "metadata": {
    "id": "C3LSitfDxJxX"
   },
   "outputs": [],
   "source": [
    "def st_ab(able_st):\n",
    "  if able_st <= 30:\n",
    "    return 2\n",
    "  elif able_st <= 58:\n",
    "    return 3\n",
    "  elif able_st <= 83:\n",
    "    return 4\n",
    "  else:\n",
    "    return 5\n",
    "\n",
    "def st_ba(baker_st):\n",
    "  if baker_st <= 35:\n",
    "    return 3\n",
    "  elif baker_st <= 60:\n",
    "    return 4\n",
    "  elif baker_st <= 80:\n",
    "    return 5\n",
    "  else:\n",
    "    return 6"
   ]
  },
  {
   "cell_type": "code",
   "execution_count": 166,
   "metadata": {
    "colab": {
     "base_uri": "https://localhost:8080/"
    },
    "id": "myGaS9we1NzJ",
    "outputId": "d375e3af-7c13-4f35-aacc-e294f4f735f8"
   },
   "outputs": [
    {
     "name": "stdout",
     "output_type": "stream",
     "text": [
      "tsb_a [0, 0, 8, 12, 16, 18]\n",
      "st_a [5, 0, 2, 3, 2, 5]\n",
      "tse_a [5, 0, 10, 15, 18, 23]\n",
      "tsb_b [0, 4, 0, 0, 0, 0]\n",
      "st_b [0, 5, 0, 0, 0, 0]\n",
      "tse_b [0, 9, 0, 0, 0, 0]\n",
      "wt [0, 0, 0, 0, 0, 0]\n",
      "tss [5, 5, 2, 3, 2, 5]\n"
     ]
    }
   ],
   "source": [
    "k = 0\n",
    "g = 0\n",
    "for i in range(0, r):\n",
    "    if i == 0:\n",
    "        tsb_a.append(0)\n",
    "        st_a.append(st_ab(r_st[i]))\n",
    "        tse_a.append(tsb_a[i] + st_a[i])\n",
    "        tsb_b.append(0)\n",
    "        st_b.append(0)\n",
    "        tse_b.append(0)\n",
    "        wt.append(tsb_a[i] - at[i])\n",
    "        tss.append(st_a[i] + wt[i])\n",
    "        k = tse_b[i]\n",
    "        g = tse_a[i]\n",
    "    else:\n",
    "        if at[i] == g:\n",
    "          if tse_a[i-2] > at[i]:\n",
    "                tsb_a.append(tse_a[i-2])\n",
    "          else:\n",
    "                tsb_a.append(at[i])\n",
    "                tsb_b.append(0)\n",
    "                st_b.append(0)\n",
    "                tse_b.append(0)\n",
    "                st_a.append(st_ab(r_st[i]))\n",
    "                tse_a.append(tsb_a[i] + st_a[i])\n",
    "                wt.append(tsb_a[i] - at[i])\n",
    "                tss.append(st_a[i] + wt[i])\n",
    "                k = tse_b[i]\n",
    "                g = tse_a[i]  \n",
    "        elif at[i] <= k and at[i] >= g:\n",
    "            if tse_a[i-2] > at[i]:\n",
    "                tsb_a.append(tse_a[i-2])\n",
    "            else:\n",
    "                tsb_a.append(at[i])\n",
    "            tsb_b.append(0)\n",
    "            st_b.append(0)\n",
    "            tse_b.append(0)\n",
    "            st_a.append(st_ab(r_st[i]))\n",
    "            tse_a.append(tsb_a[i] + st_a[i])\n",
    "            wt.append(tsb_a[i] - at[i])\n",
    "            tss.append(st_a[i] + wt[i])\n",
    "            k = tse_b[i]\n",
    "            g = tse_a[i]\n",
    "            \n",
    "    \n",
    "        elif at[i] >= k and at[i] <= g:\n",
    "            if tse_b[i - 2] > at[i]:\n",
    "                tsb_b.append(tse_b[i - 2])\n",
    "            else:\n",
    "                tsb_b.append(at[i])\n",
    "            tsb_a.append(0)\n",
    "            st_a.append(0)\n",
    "            tse_a.append(0)\n",
    "            st_b.append(st_ba(r_st[i]))\n",
    "            tse_b.append(tsb_b[i] + st_b[i])\n",
    "            wt.append(tsb_b[i] - at[i])\n",
    "            tss.append(st_b[i] + wt[i])\n",
    "            k = tse_b[i]\n",
    "            g = tse_a[i]\n",
    "        else:\n",
    "            if tse_a[i-2] > at[i]:\n",
    "                tsb_a.append(tse_a[i-2])\n",
    "            else:\n",
    "                tsb_a.append(at[i])\n",
    "            tsb_b.append(0)\n",
    "            st_b.append(0)\n",
    "            tse_b.append(0)\n",
    "            st_a.append(st_ab(r_st[i]))\n",
    "            tse_a.append(tsb_a[i] + st_a[i])\n",
    "            wt.append(tsb_a[i] - at[i])\n",
    "            tss.append(st_a[i] + wt[i])\n",
    "            k = tse_b[i]\n",
    "            g = tse_a[i]\n",
    "\n",
    "            \n",
    "    \n",
    "\n",
    "# Final output of all lists\n",
    "print(f\"tsb_a {tsb_a}\")\n",
    "print(f\"st_a {st_a}\")\n",
    "print(f\"tse_a {tse_a}\")\n",
    "print(f\"tsb_b {tsb_b}\")\n",
    "print(f\"st_b {st_b}\")\n",
    "print(f\"tse_b {tse_b}\")\n",
    "print(f\"wt {wt}\")\n",
    "print(f\"tss {tss}\")"
   ]
  },
  {
   "cell_type": "code",
   "execution_count": 167,
   "metadata": {
    "colab": {
     "base_uri": "https://localhost:8080/"
    },
    "id": "NJBHbeYHBo2D",
    "outputId": "db866a91-6367-4aaa-f153-ac120792af74"
   },
   "outputs": [
    {
     "name": "stdout",
     "output_type": "stream",
     "text": [
      "[{(' ', 'Customer'): 1, (' ', 'RD. IAT'): '-', (' ', 'IAT'): '-', (' ', 'AT'): 0, (' ', 'RD. ST'): 86, ('Able', 'TSB'): 0, ('Able', 'ST'): 5, ('Able', 'TSE'): 5, ('Baker', 'TSB'): 0, ('Baker', 'ST'): 0, ('Baker', 'TSE'): 0, (' ', 'Caller Delay'): 0, (' ', 'TSS'): 5}, {(' ', 'Customer'): 2, (' ', 'RD. IAT'): 649, (' ', 'IAT'): 4, (' ', 'AT'): 4, (' ', 'RD. ST'): 77, ('Able', 'TSB'): 0, ('Able', 'ST'): 0, ('Able', 'TSE'): 0, ('Baker', 'TSB'): 4, ('Baker', 'ST'): 5, ('Baker', 'TSE'): 9, (' ', 'Caller Delay'): 0, (' ', 'TSS'): 5}, {(' ', 'Customer'): 3, (' ', 'RD. IAT'): 751, (' ', 'IAT'): 4, (' ', 'AT'): 8, (' ', 'RD. ST'): 15, ('Able', 'TSB'): 8, ('Able', 'ST'): 2, ('Able', 'TSE'): 10, ('Baker', 'TSB'): 0, ('Baker', 'ST'): 0, ('Baker', 'TSE'): 0, (' ', 'Caller Delay'): 0, (' ', 'TSS'): 2}, {(' ', 'Customer'): 4, (' ', 'RD. IAT'): 556, (' ', 'IAT'): 4, (' ', 'AT'): 12, (' ', 'RD. ST'): 46, ('Able', 'TSB'): 12, ('Able', 'ST'): 3, ('Able', 'TSE'): 15, ('Baker', 'TSB'): 0, ('Baker', 'ST'): 0, ('Baker', 'TSE'): 0, (' ', 'Caller Delay'): 0, (' ', 'TSS'): 3}, {(' ', 'Customer'): 5, (' ', 'RD. IAT'): 934, (' ', 'IAT'): 4, (' ', 'AT'): 16, (' ', 'RD. ST'): 12, ('Able', 'TSB'): 16, ('Able', 'ST'): 2, ('Able', 'TSE'): 18, ('Baker', 'TSB'): 0, ('Baker', 'ST'): 0, ('Baker', 'TSE'): 0, (' ', 'Caller Delay'): 0, (' ', 'TSS'): 2}, {(' ', 'Customer'): 6, (' ', 'RD. IAT'): 64, (' ', 'IAT'): 2, (' ', 'AT'): 18, (' ', 'RD. ST'): 92, ('Able', 'TSB'): 18, ('Able', 'ST'): 5, ('Able', 'TSE'): 23, ('Baker', 'TSB'): 0, ('Baker', 'ST'): 0, ('Baker', 'TSE'): 0, (' ', 'Caller Delay'): 0, (' ', 'TSS'): 5}]\n"
     ]
    }
   ],
   "source": [
    "l = []\n",
    "counter = 1\n",
    "for n in range(0, r):\n",
    "  fl = {}\n",
    "  fl[(\" \", \"Customer\")] = counter\n",
    "  counter += 1\n",
    "  fl[(\" \", \"RD. IAT\")] = r_iat[n]\n",
    "  fl[(\" \", \"IAT\")] = iat[n]\n",
    "  fl[(\" \", \"AT\")] = at[n]\n",
    "  fl[(\" \", \"RD. ST\")] = r_st[n]\n",
    "  fl[(\"Able\", \"TSB\")] = tsb_a[n]\n",
    "  fl[(\"Able\", \"ST\")] = st_a[n]\n",
    "  fl[(\"Able\", \"TSE\")] = tse_a[n]\n",
    "  fl[(\"Baker\", \"TSB\")] = tsb_b[n]\n",
    "  fl[(\"Baker\", \"ST\")] = st_b[n]\n",
    "  fl[(\"Baker\", \"TSE\")] = tse_b[n]\n",
    "  fl[(\" \", \"Caller Delay\")] = wt[n]\n",
    "  fl[(\" \", \"TSS\")] = tss[n]\n",
    "  l.append(fl)\n",
    "\n",
    "df = pd.DataFrame(l)\n",
    "df.to_csv('caller.csv')\n",
    "print(l)"
   ]
  },
  {
   "cell_type": "code",
   "execution_count": 168,
   "metadata": {
    "colab": {
     "base_uri": "https://localhost:8080/",
     "height": 238
    },
    "id": "CRYxt2NXDD77",
    "outputId": "a5b828ea-28bf-41b9-ac6c-2976cdbeb80a"
   },
   "outputs": [
    {
     "data": {
      "text/html": [
       "<div>\n",
       "<style scoped>\n",
       "    .dataframe tbody tr th:only-of-type {\n",
       "        vertical-align: middle;\n",
       "    }\n",
       "\n",
       "    .dataframe tbody tr th {\n",
       "        vertical-align: top;\n",
       "    }\n",
       "\n",
       "    .dataframe thead th {\n",
       "        text-align: right;\n",
       "    }\n",
       "</style>\n",
       "<table border=\"1\" class=\"dataframe\">\n",
       "  <thead>\n",
       "    <tr style=\"text-align: right;\">\n",
       "      <th></th>\n",
       "      <th>(' ', 'Customer')</th>\n",
       "      <th>(' ', 'RD. IAT')</th>\n",
       "      <th>(' ', 'IAT')</th>\n",
       "      <th>(' ', 'AT')</th>\n",
       "      <th>(' ', 'RD. ST')</th>\n",
       "      <th>('Able', 'TSB')</th>\n",
       "      <th>('Able', 'ST')</th>\n",
       "      <th>('Able', 'TSE')</th>\n",
       "      <th>('Baker', 'TSB')</th>\n",
       "      <th>('Baker', 'ST')</th>\n",
       "      <th>('Baker', 'TSE')</th>\n",
       "      <th>(' ', 'Caller Delay')</th>\n",
       "      <th>(' ', 'TSS')</th>\n",
       "    </tr>\n",
       "  </thead>\n",
       "  <tbody>\n",
       "    <tr>\n",
       "      <th>0</th>\n",
       "      <td>1</td>\n",
       "      <td>-</td>\n",
       "      <td>-</td>\n",
       "      <td>0</td>\n",
       "      <td>86</td>\n",
       "      <td>0</td>\n",
       "      <td>5</td>\n",
       "      <td>5</td>\n",
       "      <td>0</td>\n",
       "      <td>0</td>\n",
       "      <td>0</td>\n",
       "      <td>0</td>\n",
       "      <td>5</td>\n",
       "    </tr>\n",
       "    <tr>\n",
       "      <th>1</th>\n",
       "      <td>2</td>\n",
       "      <td>649</td>\n",
       "      <td>4</td>\n",
       "      <td>4</td>\n",
       "      <td>77</td>\n",
       "      <td>0</td>\n",
       "      <td>0</td>\n",
       "      <td>0</td>\n",
       "      <td>4</td>\n",
       "      <td>5</td>\n",
       "      <td>9</td>\n",
       "      <td>0</td>\n",
       "      <td>5</td>\n",
       "    </tr>\n",
       "    <tr>\n",
       "      <th>2</th>\n",
       "      <td>3</td>\n",
       "      <td>751</td>\n",
       "      <td>4</td>\n",
       "      <td>8</td>\n",
       "      <td>15</td>\n",
       "      <td>8</td>\n",
       "      <td>2</td>\n",
       "      <td>10</td>\n",
       "      <td>0</td>\n",
       "      <td>0</td>\n",
       "      <td>0</td>\n",
       "      <td>0</td>\n",
       "      <td>2</td>\n",
       "    </tr>\n",
       "    <tr>\n",
       "      <th>3</th>\n",
       "      <td>4</td>\n",
       "      <td>556</td>\n",
       "      <td>4</td>\n",
       "      <td>12</td>\n",
       "      <td>46</td>\n",
       "      <td>12</td>\n",
       "      <td>3</td>\n",
       "      <td>15</td>\n",
       "      <td>0</td>\n",
       "      <td>0</td>\n",
       "      <td>0</td>\n",
       "      <td>0</td>\n",
       "      <td>3</td>\n",
       "    </tr>\n",
       "    <tr>\n",
       "      <th>4</th>\n",
       "      <td>5</td>\n",
       "      <td>934</td>\n",
       "      <td>4</td>\n",
       "      <td>16</td>\n",
       "      <td>12</td>\n",
       "      <td>16</td>\n",
       "      <td>2</td>\n",
       "      <td>18</td>\n",
       "      <td>0</td>\n",
       "      <td>0</td>\n",
       "      <td>0</td>\n",
       "      <td>0</td>\n",
       "      <td>2</td>\n",
       "    </tr>\n",
       "    <tr>\n",
       "      <th>5</th>\n",
       "      <td>6</td>\n",
       "      <td>64</td>\n",
       "      <td>2</td>\n",
       "      <td>18</td>\n",
       "      <td>92</td>\n",
       "      <td>18</td>\n",
       "      <td>5</td>\n",
       "      <td>23</td>\n",
       "      <td>0</td>\n",
       "      <td>0</td>\n",
       "      <td>0</td>\n",
       "      <td>0</td>\n",
       "      <td>5</td>\n",
       "    </tr>\n",
       "  </tbody>\n",
       "</table>\n",
       "</div>"
      ],
      "text/plain": [
       "   (' ', 'Customer') (' ', 'RD. IAT') (' ', 'IAT')  (' ', 'AT')  \\\n",
       "0                  1                -            -            0   \n",
       "1                  2              649            4            4   \n",
       "2                  3              751            4            8   \n",
       "3                  4              556            4           12   \n",
       "4                  5              934            4           16   \n",
       "5                  6               64            2           18   \n",
       "\n",
       "   (' ', 'RD. ST')  ('Able', 'TSB')  ('Able', 'ST')  ('Able', 'TSE')  \\\n",
       "0               86                0               5                5   \n",
       "1               77                0               0                0   \n",
       "2               15                8               2               10   \n",
       "3               46               12               3               15   \n",
       "4               12               16               2               18   \n",
       "5               92               18               5               23   \n",
       "\n",
       "   ('Baker', 'TSB')  ('Baker', 'ST')  ('Baker', 'TSE')  (' ', 'Caller Delay')  \\\n",
       "0                 0                0                 0                      0   \n",
       "1                 4                5                 9                      0   \n",
       "2                 0                0                 0                      0   \n",
       "3                 0                0                 0                      0   \n",
       "4                 0                0                 0                      0   \n",
       "5                 0                0                 0                      0   \n",
       "\n",
       "   (' ', 'TSS')  \n",
       "0             5  \n",
       "1             5  \n",
       "2             2  \n",
       "3             3  \n",
       "4             2  \n",
       "5             5  "
      ]
     },
     "execution_count": 168,
     "metadata": {},
     "output_type": "execute_result"
    }
   ],
   "source": [
    "d = pd.read_csv('caller.csv')\n",
    "d.pop(\"Unnamed: 0\")\n",
    "d"
   ]
  }
 ],
 "metadata": {
  "colab": {
   "provenance": []
  },
  "kernelspec": {
   "display_name": "My Env2",
   "language": "python",
   "name": "myenv"
  },
  "language_info": {
   "codemirror_mode": {
    "name": "ipython",
    "version": 3
   },
   "file_extension": ".py",
   "mimetype": "text/x-python",
   "name": "python",
   "nbconvert_exporter": "python",
   "pygments_lexer": "ipython3",
   "version": "3.12.7"
  }
 },
 "nbformat": 4,
 "nbformat_minor": 0
}
