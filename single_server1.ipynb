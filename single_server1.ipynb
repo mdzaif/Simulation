{
 "cells": [
  {
   "cell_type": "code",
   "execution_count": 1,
   "metadata": {
    "id": "5T5pxvQbl1hx"
   },
   "outputs": [],
   "source": [
    "import pandas as pd\n",
    "import random as rd\n",
    "\n",
    "r_iat = []\n",
    "r_st = []\n",
    "r = int(input(\"Enter the number of customers: \"))\n",
    "iat = []\n",
    "at = []\n",
    "st = []\n",
    "tsb = []\n",
    "wt = []\n",
    "tse = []\n",
    "tss = []\n",
    "ios = []\n",
    "\n"
   ]
  },
  {
   "cell_type": "code",
   "execution_count": 2,
   "metadata": {},
   "outputs": [
    {
     "name": "stdout",
     "output_type": "stream",
     "text": [
      "RD. IAT: ['-', 889, 35, 144, 231, 241, 81, 468]\n",
      "RD. ST: [81, 5, 86, 58, 6, 20, 26, 96]\n"
     ]
    }
   ],
   "source": [
    "for q in range(0, r):\n",
    "    if q == 0:\n",
    "        r_iat.append('-')\n",
    "    else:\n",
    "        r_iat.append(rd.randint(0,1001))\n",
    "for w in range(0, r):\n",
    "    r_st.append(rd.randint(0,101))\n",
    "\n",
    "print(f\"RD. IAT: {r_iat}\")\n",
    "print(f\"RD. ST: {r_st}\")"
   ]
  },
  {
   "cell_type": "code",
   "execution_count": 3,
   "metadata": {
    "colab": {
     "base_uri": "https://localhost:8080/"
    },
    "id": "96OgourTn1gE",
    "outputId": "e7af78eb-959f-40d8-8fcb-e071d0925663"
   },
   "outputs": [
    {
     "name": "stdout",
     "output_type": "stream",
     "text": [
      "IAT: ['-', 8, 1, 2, 2, 2, 1, 4]\n"
     ]
    }
   ],
   "source": [
    "# conditions\n",
    "\n",
    "for i in r_iat:\n",
    "  if i == '-':\n",
    "    iat.append('-')\n",
    "  elif i <= 125:\n",
    "    iat.append(1)\n",
    "  elif i <= 250:\n",
    "    iat.append(2)\n",
    "  elif i <= 375:\n",
    "    iat.append(3)\n",
    "  elif i <= 500:\n",
    "    iat.append(4)\n",
    "  elif i <= 625:\n",
    "    iat.append(5)\n",
    "  elif i <= 750:\n",
    "    iat.append(6)\n",
    "  elif i <= 875:\n",
    "    iat.append(7)\n",
    "  else:\n",
    "    iat.append(8)\n",
    "\n",
    "print(f\"IAT: {iat}\")\n"
   ]
  },
  {
   "cell_type": "code",
   "execution_count": 4,
   "metadata": {
    "colab": {
     "base_uri": "https://localhost:8080/"
    },
    "id": "Wp1nfnvBtHE9",
    "outputId": "c17c3db0-7e89-4920-98ef-f882ae1fcec5"
   },
   "outputs": [
    {
     "name": "stdout",
     "output_type": "stream",
     "text": [
      "AT: [0, 8, 9, 11, 13, 15, 16, 20]\n"
     ]
    }
   ],
   "source": [
    "c = 0\n",
    "l = len(iat)\n",
    "for j in iat:\n",
    "  if j == '-':\n",
    "    at.append(0)\n",
    "  else:\n",
    "    c = c + j\n",
    "    at.append(c)\n",
    "print(f\"AT: {at}\")"
   ]
  },
  {
   "cell_type": "code",
   "execution_count": 5,
   "metadata": {
    "colab": {
     "base_uri": "https://localhost:8080/"
    },
    "id": "IbXYv_jlua0t",
    "outputId": "7da48db4-cd6e-4774-b905-88dc7ef6100b"
   },
   "outputs": [
    {
     "name": "stdout",
     "output_type": "stream",
     "text": [
      "ST: [4, 1, 5, 3, 1, 2, 2, 6]\n"
     ]
    }
   ],
   "source": [
    "for s in r_st:\n",
    "  if s <= 10:\n",
    "    st.append(1)\n",
    "  elif s <= 30:\n",
    "    st.append(2)\n",
    "  elif s <= 60:\n",
    "    st.append(3)\n",
    "  elif s <= 85:\n",
    "    st.append(4)\n",
    "  elif s <= 95:\n",
    "    st.append(5)\n",
    "  else:\n",
    "    st.append(6)\n",
    "\n",
    "print(f\"ST: {st}\")"
   ]
  },
  {
   "cell_type": "code",
   "execution_count": 6,
   "metadata": {
    "colab": {
     "base_uri": "https://localhost:8080/"
    },
    "id": "7_shbzO9vevy",
    "outputId": "0d266e4d-1f35-472b-c15a-9a50126874ad"
   },
   "outputs": [
    {
     "name": "stdout",
     "output_type": "stream",
     "text": [
      "TSB: [0, 8, 9, 14, 17, 18, 20, 22]\n",
      "WT: [0, 0, 0, 3, 4, 3, 4, 2]\n",
      "TSE: [4, 9, 14, 17, 18, 20, 22, 28]\n",
      "TSS: [4, 1, 5, 6, 5, 5, 6, 8]\n",
      "IOS: [0, 4, 0, 0, 0, 0, 0, 0]\n"
     ]
    }
   ],
   "source": [
    "# ios = current tsb - pre. tse\n",
    "# wt = tsb - at\n",
    "# tss = wt -st\n",
    "\n",
    "\n",
    "for k in range (0,r):\n",
    "  if k == 0:\n",
    "    tsb.append(0)\n",
    "    wt.append(0)\n",
    "    tse.append(st[k])\n",
    "    tss.append(st[k]+wt[k])\n",
    "    ios.append(0)\n",
    "  else:\n",
    "    tsb.append(max(tse[k-1], at[k]))\n",
    "    wt.append(tsb[k]-at[k])\n",
    "    tse.append(tsb[k]+st[k])\n",
    "    tss.append(wt[k]+st[k])\n",
    "    ios.append(tsb[k]-tse[k-1])\n",
    "print(f\"TSB: {tsb}\")\n",
    "print(f\"WT: {wt}\")\n",
    "print(f\"TSE: {tse}\")\n",
    "print(f\"TSS: {tss}\")\n",
    "print(f\"IOS: {ios}\")\n",
    "\n"
   ]
  },
  {
   "cell_type": "code",
   "execution_count": 7,
   "metadata": {
    "colab": {
     "base_uri": "https://localhost:8080/"
    },
    "id": "IfbVXgXw3a97",
    "outputId": "0ca4673a-2bf3-4a2a-bd5a-a169846228b1"
   },
   "outputs": [
    {
     "name": "stdout",
     "output_type": "stream",
     "text": [
      "[{'Customer': 1, 'RD. IAT': '-', 'IAT': '-', 'AT': 0, 'RD. ST': 81, 'ST': 4, 'TSB': 0, 'WT': 0, 'TSE': 4, 'TSS': 4, 'IOS': 0}, {'Customer': 2, 'RD. IAT': 889, 'IAT': 8, 'AT': 8, 'RD. ST': 5, 'ST': 1, 'TSB': 8, 'WT': 0, 'TSE': 9, 'TSS': 1, 'IOS': 4}, {'Customer': 3, 'RD. IAT': 35, 'IAT': 1, 'AT': 9, 'RD. ST': 86, 'ST': 5, 'TSB': 9, 'WT': 0, 'TSE': 14, 'TSS': 5, 'IOS': 0}, {'Customer': 4, 'RD. IAT': 144, 'IAT': 2, 'AT': 11, 'RD. ST': 58, 'ST': 3, 'TSB': 14, 'WT': 3, 'TSE': 17, 'TSS': 6, 'IOS': 0}, {'Customer': 5, 'RD. IAT': 231, 'IAT': 2, 'AT': 13, 'RD. ST': 6, 'ST': 1, 'TSB': 17, 'WT': 4, 'TSE': 18, 'TSS': 5, 'IOS': 0}, {'Customer': 6, 'RD. IAT': 241, 'IAT': 2, 'AT': 15, 'RD. ST': 20, 'ST': 2, 'TSB': 18, 'WT': 3, 'TSE': 20, 'TSS': 5, 'IOS': 0}, {'Customer': 7, 'RD. IAT': 81, 'IAT': 1, 'AT': 16, 'RD. ST': 26, 'ST': 2, 'TSB': 20, 'WT': 4, 'TSE': 22, 'TSS': 6, 'IOS': 0}, {'Customer': 8, 'RD. IAT': 468, 'IAT': 4, 'AT': 20, 'RD. ST': 96, 'ST': 6, 'TSB': 22, 'WT': 2, 'TSE': 28, 'TSS': 8, 'IOS': 0}]\n"
     ]
    }
   ],
   "source": [
    "l = []\n",
    "counter = 1\n",
    "for n in range(0, r):\n",
    "  fl = {}\n",
    "  fl[\"Customer\"] = counter\n",
    "  counter += 1\n",
    "  fl[\"RD. IAT\"] = r_iat[n]\n",
    "  fl[\"IAT\"] = iat[n]\n",
    "  fl[\"AT\"] = at[n]\n",
    "  fl[\"RD. ST\"] = r_st[n]\n",
    "  fl[\"ST\"] = st[n]\n",
    "  fl[\"TSB\"] = tsb[n]\n",
    "  fl[\"WT\"] = wt[n]\n",
    "  fl[\"TSE\"] = tse[n]\n",
    "  fl[\"TSS\"] = tss[n]\n",
    "  fl[\"IOS\"] = ios[n]\n",
    "  l.append(fl)\n",
    "\n",
    "df = pd.DataFrame(l)\n",
    "df.to_csv('grocery.csv')\n",
    "print(l)"
   ]
  },
  {
   "cell_type": "code",
   "execution_count": 8,
   "metadata": {
    "colab": {
     "base_uri": "https://localhost:8080/",
     "height": 300
    },
    "id": "gA6ch5p-5Um1",
    "outputId": "23ddb68c-217b-4b41-a5f5-ba8ec496e209"
   },
   "outputs": [
    {
     "data": {
      "text/html": [
       "<div>\n",
       "<style scoped>\n",
       "    .dataframe tbody tr th:only-of-type {\n",
       "        vertical-align: middle;\n",
       "    }\n",
       "\n",
       "    .dataframe tbody tr th {\n",
       "        vertical-align: top;\n",
       "    }\n",
       "\n",
       "    .dataframe thead th {\n",
       "        text-align: right;\n",
       "    }\n",
       "</style>\n",
       "<table border=\"1\" class=\"dataframe\">\n",
       "  <thead>\n",
       "    <tr style=\"text-align: right;\">\n",
       "      <th></th>\n",
       "      <th>Customer</th>\n",
       "      <th>RD. IAT</th>\n",
       "      <th>IAT</th>\n",
       "      <th>AT</th>\n",
       "      <th>RD. ST</th>\n",
       "      <th>ST</th>\n",
       "      <th>TSB</th>\n",
       "      <th>WT</th>\n",
       "      <th>TSE</th>\n",
       "      <th>TSS</th>\n",
       "      <th>IOS</th>\n",
       "    </tr>\n",
       "  </thead>\n",
       "  <tbody>\n",
       "    <tr>\n",
       "      <th>0</th>\n",
       "      <td>1</td>\n",
       "      <td>-</td>\n",
       "      <td>-</td>\n",
       "      <td>0</td>\n",
       "      <td>81</td>\n",
       "      <td>4</td>\n",
       "      <td>0</td>\n",
       "      <td>0</td>\n",
       "      <td>4</td>\n",
       "      <td>4</td>\n",
       "      <td>0</td>\n",
       "    </tr>\n",
       "    <tr>\n",
       "      <th>1</th>\n",
       "      <td>2</td>\n",
       "      <td>889</td>\n",
       "      <td>8</td>\n",
       "      <td>8</td>\n",
       "      <td>5</td>\n",
       "      <td>1</td>\n",
       "      <td>8</td>\n",
       "      <td>0</td>\n",
       "      <td>9</td>\n",
       "      <td>1</td>\n",
       "      <td>4</td>\n",
       "    </tr>\n",
       "    <tr>\n",
       "      <th>2</th>\n",
       "      <td>3</td>\n",
       "      <td>35</td>\n",
       "      <td>1</td>\n",
       "      <td>9</td>\n",
       "      <td>86</td>\n",
       "      <td>5</td>\n",
       "      <td>9</td>\n",
       "      <td>0</td>\n",
       "      <td>14</td>\n",
       "      <td>5</td>\n",
       "      <td>0</td>\n",
       "    </tr>\n",
       "    <tr>\n",
       "      <th>3</th>\n",
       "      <td>4</td>\n",
       "      <td>144</td>\n",
       "      <td>2</td>\n",
       "      <td>11</td>\n",
       "      <td>58</td>\n",
       "      <td>3</td>\n",
       "      <td>14</td>\n",
       "      <td>3</td>\n",
       "      <td>17</td>\n",
       "      <td>6</td>\n",
       "      <td>0</td>\n",
       "    </tr>\n",
       "    <tr>\n",
       "      <th>4</th>\n",
       "      <td>5</td>\n",
       "      <td>231</td>\n",
       "      <td>2</td>\n",
       "      <td>13</td>\n",
       "      <td>6</td>\n",
       "      <td>1</td>\n",
       "      <td>17</td>\n",
       "      <td>4</td>\n",
       "      <td>18</td>\n",
       "      <td>5</td>\n",
       "      <td>0</td>\n",
       "    </tr>\n",
       "    <tr>\n",
       "      <th>5</th>\n",
       "      <td>6</td>\n",
       "      <td>241</td>\n",
       "      <td>2</td>\n",
       "      <td>15</td>\n",
       "      <td>20</td>\n",
       "      <td>2</td>\n",
       "      <td>18</td>\n",
       "      <td>3</td>\n",
       "      <td>20</td>\n",
       "      <td>5</td>\n",
       "      <td>0</td>\n",
       "    </tr>\n",
       "    <tr>\n",
       "      <th>6</th>\n",
       "      <td>7</td>\n",
       "      <td>81</td>\n",
       "      <td>1</td>\n",
       "      <td>16</td>\n",
       "      <td>26</td>\n",
       "      <td>2</td>\n",
       "      <td>20</td>\n",
       "      <td>4</td>\n",
       "      <td>22</td>\n",
       "      <td>6</td>\n",
       "      <td>0</td>\n",
       "    </tr>\n",
       "    <tr>\n",
       "      <th>7</th>\n",
       "      <td>8</td>\n",
       "      <td>468</td>\n",
       "      <td>4</td>\n",
       "      <td>20</td>\n",
       "      <td>96</td>\n",
       "      <td>6</td>\n",
       "      <td>22</td>\n",
       "      <td>2</td>\n",
       "      <td>28</td>\n",
       "      <td>8</td>\n",
       "      <td>0</td>\n",
       "    </tr>\n",
       "  </tbody>\n",
       "</table>\n",
       "</div>"
      ],
      "text/plain": [
       "   Customer RD. IAT IAT  AT  RD. ST  ST  TSB  WT  TSE  TSS  IOS\n",
       "0         1       -   -   0      81   4    0   0    4    4    0\n",
       "1         2     889   8   8       5   1    8   0    9    1    4\n",
       "2         3      35   1   9      86   5    9   0   14    5    0\n",
       "3         4     144   2  11      58   3   14   3   17    6    0\n",
       "4         5     231   2  13       6   1   17   4   18    5    0\n",
       "5         6     241   2  15      20   2   18   3   20    5    0\n",
       "6         7      81   1  16      26   2   20   4   22    6    0\n",
       "7         8     468   4  20      96   6   22   2   28    8    0"
      ]
     },
     "execution_count": 8,
     "metadata": {},
     "output_type": "execute_result"
    }
   ],
   "source": [
    "d = pd.read_csv('grocery.csv')\n",
    "d.pop('Unnamed: 0')\n",
    "d"
   ]
  }
 ],
 "metadata": {
  "colab": {
   "provenance": []
  },
  "kernelspec": {
   "display_name": "My Env2",
   "language": "python",
   "name": "myenv"
  },
  "language_info": {
   "codemirror_mode": {
    "name": "ipython",
    "version": 3
   },
   "file_extension": ".py",
   "mimetype": "text/x-python",
   "name": "python",
   "nbconvert_exporter": "python",
   "pygments_lexer": "ipython3",
   "version": "3.12.7"
  }
 },
 "nbformat": 4,
 "nbformat_minor": 0
}
