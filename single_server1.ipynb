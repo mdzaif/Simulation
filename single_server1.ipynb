{
 "cells": [
  {
   "cell_type": "code",
   "execution_count": 82,
   "metadata": {
    "id": "5T5pxvQbl1hx"
   },
   "outputs": [],
   "source": [
    "import pandas as pd\n",
    "import random as rd\n",
    "\n",
    "r_iat = []\n",
    "r_st = []\n",
    "r = int(input(\"Enter the number of customers: \"))\n",
    "iat = []\n",
    "at = []\n",
    "st = []\n",
    "tsb = []\n",
    "wt = []\n",
    "tse = []\n",
    "tss = []\n",
    "ios = []\n",
    "\n"
   ]
  },
  {
   "cell_type": "code",
   "execution_count": 83,
   "metadata": {},
   "outputs": [
    {
     "name": "stdout",
     "output_type": "stream",
     "text": [
      "RD. IAT: ['-', 942, 619, 790, 296, 266, 582, 828]\n",
      "RD. ST: [25, 43, 79, 99, 67, 50, 85, 50]\n"
     ]
    }
   ],
   "source": [
    "for q in range(0, r):\n",
    "    if q == 0:\n",
    "        r_iat.append('-')\n",
    "    else:\n",
    "        r_iat.append(rd.randint(0,1001))\n",
    "for w in range(0, r):\n",
    "    r_st.append(rd.randint(0,101))\n",
    "\n",
    "print(f\"RD. IAT: {r_iat}\")\n",
    "print(f\"RD. ST: {r_st}\")"
   ]
  },
  {
   "cell_type": "code",
   "execution_count": 84,
   "metadata": {
    "colab": {
     "base_uri": "https://localhost:8080/"
    },
    "id": "96OgourTn1gE",
    "outputId": "e7af78eb-959f-40d8-8fcb-e071d0925663"
   },
   "outputs": [
    {
     "name": "stdout",
     "output_type": "stream",
     "text": [
      "IAT: ['-', 8, 5, 7, 3, 3, 5, 7]\n"
     ]
    }
   ],
   "source": [
    "# conditions\n",
    "\n",
    "for i in r_iat:\n",
    "  if i == '-':\n",
    "    iat.append('-')\n",
    "  elif i <= 125:\n",
    "    iat.append(1)\n",
    "  elif i <= 250:\n",
    "    iat.append(2)\n",
    "  elif i <= 375:\n",
    "    iat.append(3)\n",
    "  elif i <= 500:\n",
    "    iat.append(4)\n",
    "  elif i <= 625:\n",
    "    iat.append(5)\n",
    "  elif i <= 750:\n",
    "    iat.append(6)\n",
    "  elif i <= 875:\n",
    "    iat.append(7)\n",
    "  else:\n",
    "    iat.append(8)\n",
    "\n",
    "print(f\"IAT: {iat}\")\n"
   ]
  },
  {
   "cell_type": "code",
   "execution_count": 85,
   "metadata": {
    "colab": {
     "base_uri": "https://localhost:8080/"
    },
    "id": "Wp1nfnvBtHE9",
    "outputId": "c17c3db0-7e89-4920-98ef-f882ae1fcec5"
   },
   "outputs": [
    {
     "name": "stdout",
     "output_type": "stream",
     "text": [
      "AT: [0, 8, 13, 20, 23, 26, 31, 38]\n"
     ]
    }
   ],
   "source": [
    "c = 0\n",
    "l = len(iat)\n",
    "for j in iat:\n",
    "  if j == '-':\n",
    "    at.append(0)\n",
    "  else:\n",
    "    c = c + j\n",
    "    at.append(c)\n",
    "print(f\"AT: {at}\")"
   ]
  },
  {
   "cell_type": "code",
   "execution_count": 86,
   "metadata": {
    "colab": {
     "base_uri": "https://localhost:8080/"
    },
    "id": "IbXYv_jlua0t",
    "outputId": "7da48db4-cd6e-4774-b905-88dc7ef6100b"
   },
   "outputs": [
    {
     "name": "stdout",
     "output_type": "stream",
     "text": [
      "ST: [2, 3, 4, 6, 4, 3, 4, 3]\n"
     ]
    }
   ],
   "source": [
    "for s in r_st:\n",
    "  if s <= 10:\n",
    "    st.append(1)\n",
    "  elif s <= 30:\n",
    "    st.append(2)\n",
    "  elif s <= 60:\n",
    "    st.append(3)\n",
    "  elif s <= 85:\n",
    "    st.append(4)\n",
    "  elif s <= 95:\n",
    "    st.append(5)\n",
    "  else:\n",
    "    st.append(6)\n",
    "\n",
    "print(f\"ST: {st}\")"
   ]
  },
  {
   "cell_type": "code",
   "execution_count": 87,
   "metadata": {
    "colab": {
     "base_uri": "https://localhost:8080/"
    },
    "id": "7_shbzO9vevy",
    "outputId": "0d266e4d-1f35-472b-c15a-9a50126874ad"
   },
   "outputs": [
    {
     "name": "stdout",
     "output_type": "stream",
     "text": [
      "TSB: [0, 8, 13, 20, 26, 30, 33, 38]\n",
      "WT: [0, 0, 0, 0, 3, 4, 2, 0]\n",
      "TSE: [2, 11, 17, 26, 30, 33, 37, 41]\n",
      "TSS: [2, 3, 4, 6, 7, 7, 6, 3]\n",
      "IOS: [0, 6, 2, 3, 0, 0, 0, 1]\n"
     ]
    }
   ],
   "source": [
    "# ios = current tsb - pre. tse\n",
    "# wt = tsb - at\n",
    "# tss = wt -st\n",
    "\n",
    "\n",
    "for k in range (0,r):\n",
    "  if k == 0:\n",
    "    tsb.append(0)\n",
    "    wt.append(0)\n",
    "    tse.append(st[k])\n",
    "    tss.append(st[k]+wt[k])\n",
    "    ios.append(0)\n",
    "  else:\n",
    "    tsb.append(max(tse[k-1], at[k]))\n",
    "    wt.append(tsb[k]-at[k])\n",
    "    tse.append(tsb[k]+st[k])\n",
    "    tss.append(wt[k]+st[k])\n",
    "    ios.append(tsb[k]-tse[k-1])\n",
    "print(f\"TSB: {tsb}\")\n",
    "print(f\"WT: {wt}\")\n",
    "print(f\"TSE: {tse}\")\n",
    "print(f\"TSS: {tss}\")\n",
    "print(f\"IOS: {ios}\")\n",
    "\n"
   ]
  },
  {
   "cell_type": "code",
   "execution_count": 88,
   "metadata": {
    "colab": {
     "base_uri": "https://localhost:8080/"
    },
    "id": "IfbVXgXw3a97",
    "outputId": "0ca4673a-2bf3-4a2a-bd5a-a169846228b1"
   },
   "outputs": [
    {
     "name": "stdout",
     "output_type": "stream",
     "text": [
      "[{'Customer': 1, 'RD. IAT': '-', 'IAT': '-', 'AT': 0, 'RD. ST': 25, 'ST': 2, 'TSB': 0, 'WT': 0, 'TSE': 2, 'TSS': 2, 'IOS': 0}, {'Customer': 2, 'RD. IAT': 942, 'IAT': 8, 'AT': 8, 'RD. ST': 43, 'ST': 3, 'TSB': 8, 'WT': 0, 'TSE': 11, 'TSS': 3, 'IOS': 6}, {'Customer': 3, 'RD. IAT': 619, 'IAT': 5, 'AT': 13, 'RD. ST': 79, 'ST': 4, 'TSB': 13, 'WT': 0, 'TSE': 17, 'TSS': 4, 'IOS': 2}, {'Customer': 4, 'RD. IAT': 790, 'IAT': 7, 'AT': 20, 'RD. ST': 99, 'ST': 6, 'TSB': 20, 'WT': 0, 'TSE': 26, 'TSS': 6, 'IOS': 3}, {'Customer': 5, 'RD. IAT': 296, 'IAT': 3, 'AT': 23, 'RD. ST': 67, 'ST': 4, 'TSB': 26, 'WT': 3, 'TSE': 30, 'TSS': 7, 'IOS': 0}, {'Customer': 6, 'RD. IAT': 266, 'IAT': 3, 'AT': 26, 'RD. ST': 50, 'ST': 3, 'TSB': 30, 'WT': 4, 'TSE': 33, 'TSS': 7, 'IOS': 0}, {'Customer': 7, 'RD. IAT': 582, 'IAT': 5, 'AT': 31, 'RD. ST': 85, 'ST': 4, 'TSB': 33, 'WT': 2, 'TSE': 37, 'TSS': 6, 'IOS': 0}, {'Customer': 8, 'RD. IAT': 828, 'IAT': 7, 'AT': 38, 'RD. ST': 50, 'ST': 3, 'TSB': 38, 'WT': 0, 'TSE': 41, 'TSS': 3, 'IOS': 1}]\n"
     ]
    }
   ],
   "source": [
    "l = []\n",
    "counter = 1\n",
    "for n in range(0, r):\n",
    "  fl = {}\n",
    "  fl[\"Customer\"] = counter\n",
    "  counter += 1\n",
    "  fl[\"RD. IAT\"] = r_iat[n]\n",
    "  fl[\"IAT\"] = iat[n]\n",
    "  fl[\"AT\"] = at[n]\n",
    "  fl[\"RD. ST\"] = r_st[n]\n",
    "  fl[\"ST\"] = st[n]\n",
    "  fl[\"TSB\"] = tsb[n]\n",
    "  fl[\"WT\"] = wt[n]\n",
    "  fl[\"TSE\"] = tse[n]\n",
    "  fl[\"TSS\"] = tss[n]\n",
    "  fl[\"IOS\"] = ios[n]\n",
    "  l.append(fl)\n",
    "\n",
    "df = pd.DataFrame(l)\n",
    "df.to_csv('grocery.csv')\n",
    "print(l)"
   ]
  },
  {
   "cell_type": "code",
   "execution_count": 89,
   "metadata": {
    "colab": {
     "base_uri": "https://localhost:8080/",
     "height": 300
    },
    "id": "gA6ch5p-5Um1",
    "outputId": "23ddb68c-217b-4b41-a5f5-ba8ec496e209"
   },
   "outputs": [
    {
     "data": {
      "text/html": [
       "<div>\n",
       "<style scoped>\n",
       "    .dataframe tbody tr th:only-of-type {\n",
       "        vertical-align: middle;\n",
       "    }\n",
       "\n",
       "    .dataframe tbody tr th {\n",
       "        vertical-align: top;\n",
       "    }\n",
       "\n",
       "    .dataframe thead th {\n",
       "        text-align: right;\n",
       "    }\n",
       "</style>\n",
       "<table border=\"1\" class=\"dataframe\">\n",
       "  <thead>\n",
       "    <tr style=\"text-align: right;\">\n",
       "      <th></th>\n",
       "      <th>Unnamed: 0</th>\n",
       "      <th>Customer</th>\n",
       "      <th>RD. IAT</th>\n",
       "      <th>IAT</th>\n",
       "      <th>AT</th>\n",
       "      <th>RD. ST</th>\n",
       "      <th>ST</th>\n",
       "      <th>TSB</th>\n",
       "      <th>WT</th>\n",
       "      <th>TSE</th>\n",
       "      <th>TSS</th>\n",
       "      <th>IOS</th>\n",
       "    </tr>\n",
       "  </thead>\n",
       "  <tbody>\n",
       "    <tr>\n",
       "      <th>0</th>\n",
       "      <td>0</td>\n",
       "      <td>1</td>\n",
       "      <td>-</td>\n",
       "      <td>-</td>\n",
       "      <td>0</td>\n",
       "      <td>25</td>\n",
       "      <td>2</td>\n",
       "      <td>0</td>\n",
       "      <td>0</td>\n",
       "      <td>2</td>\n",
       "      <td>2</td>\n",
       "      <td>0</td>\n",
       "    </tr>\n",
       "    <tr>\n",
       "      <th>1</th>\n",
       "      <td>1</td>\n",
       "      <td>2</td>\n",
       "      <td>942</td>\n",
       "      <td>8</td>\n",
       "      <td>8</td>\n",
       "      <td>43</td>\n",
       "      <td>3</td>\n",
       "      <td>8</td>\n",
       "      <td>0</td>\n",
       "      <td>11</td>\n",
       "      <td>3</td>\n",
       "      <td>6</td>\n",
       "    </tr>\n",
       "    <tr>\n",
       "      <th>2</th>\n",
       "      <td>2</td>\n",
       "      <td>3</td>\n",
       "      <td>619</td>\n",
       "      <td>5</td>\n",
       "      <td>13</td>\n",
       "      <td>79</td>\n",
       "      <td>4</td>\n",
       "      <td>13</td>\n",
       "      <td>0</td>\n",
       "      <td>17</td>\n",
       "      <td>4</td>\n",
       "      <td>2</td>\n",
       "    </tr>\n",
       "    <tr>\n",
       "      <th>3</th>\n",
       "      <td>3</td>\n",
       "      <td>4</td>\n",
       "      <td>790</td>\n",
       "      <td>7</td>\n",
       "      <td>20</td>\n",
       "      <td>99</td>\n",
       "      <td>6</td>\n",
       "      <td>20</td>\n",
       "      <td>0</td>\n",
       "      <td>26</td>\n",
       "      <td>6</td>\n",
       "      <td>3</td>\n",
       "    </tr>\n",
       "    <tr>\n",
       "      <th>4</th>\n",
       "      <td>4</td>\n",
       "      <td>5</td>\n",
       "      <td>296</td>\n",
       "      <td>3</td>\n",
       "      <td>23</td>\n",
       "      <td>67</td>\n",
       "      <td>4</td>\n",
       "      <td>26</td>\n",
       "      <td>3</td>\n",
       "      <td>30</td>\n",
       "      <td>7</td>\n",
       "      <td>0</td>\n",
       "    </tr>\n",
       "    <tr>\n",
       "      <th>5</th>\n",
       "      <td>5</td>\n",
       "      <td>6</td>\n",
       "      <td>266</td>\n",
       "      <td>3</td>\n",
       "      <td>26</td>\n",
       "      <td>50</td>\n",
       "      <td>3</td>\n",
       "      <td>30</td>\n",
       "      <td>4</td>\n",
       "      <td>33</td>\n",
       "      <td>7</td>\n",
       "      <td>0</td>\n",
       "    </tr>\n",
       "    <tr>\n",
       "      <th>6</th>\n",
       "      <td>6</td>\n",
       "      <td>7</td>\n",
       "      <td>582</td>\n",
       "      <td>5</td>\n",
       "      <td>31</td>\n",
       "      <td>85</td>\n",
       "      <td>4</td>\n",
       "      <td>33</td>\n",
       "      <td>2</td>\n",
       "      <td>37</td>\n",
       "      <td>6</td>\n",
       "      <td>0</td>\n",
       "    </tr>\n",
       "    <tr>\n",
       "      <th>7</th>\n",
       "      <td>7</td>\n",
       "      <td>8</td>\n",
       "      <td>828</td>\n",
       "      <td>7</td>\n",
       "      <td>38</td>\n",
       "      <td>50</td>\n",
       "      <td>3</td>\n",
       "      <td>38</td>\n",
       "      <td>0</td>\n",
       "      <td>41</td>\n",
       "      <td>3</td>\n",
       "      <td>1</td>\n",
       "    </tr>\n",
       "  </tbody>\n",
       "</table>\n",
       "</div>"
      ],
      "text/plain": [
       "   Unnamed: 0  Customer RD. IAT IAT  AT  RD. ST  ST  TSB  WT  TSE  TSS  IOS\n",
       "0           0         1       -   -   0      25   2    0   0    2    2    0\n",
       "1           1         2     942   8   8      43   3    8   0   11    3    6\n",
       "2           2         3     619   5  13      79   4   13   0   17    4    2\n",
       "3           3         4     790   7  20      99   6   20   0   26    6    3\n",
       "4           4         5     296   3  23      67   4   26   3   30    7    0\n",
       "5           5         6     266   3  26      50   3   30   4   33    7    0\n",
       "6           6         7     582   5  31      85   4   33   2   37    6    0\n",
       "7           7         8     828   7  38      50   3   38   0   41    3    1"
      ]
     },
     "execution_count": 89,
     "metadata": {},
     "output_type": "execute_result"
    }
   ],
   "source": [
    "d = pd.read_csv('grocery.csv')\n",
    "d"
   ]
  }
 ],
 "metadata": {
  "colab": {
   "provenance": []
  },
  "kernelspec": {
   "display_name": "My Env1",
   "language": "python",
   "name": "myenv"
  },
  "language_info": {
   "codemirror_mode": {
    "name": "ipython",
    "version": 3
   },
   "file_extension": ".py",
   "mimetype": "text/x-python",
   "name": "python",
   "nbconvert_exporter": "python",
   "pygments_lexer": "ipython3",
   "version": "3.12.7"
  }
 },
 "nbformat": 4,
 "nbformat_minor": 0
}
